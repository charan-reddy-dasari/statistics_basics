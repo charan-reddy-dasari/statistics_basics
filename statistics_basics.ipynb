{
  "nbformat": 4,
  "nbformat_minor": 0,
  "metadata": {
    "colab": {
      "provenance": []
    },
    "kernelspec": {
      "name": "python3",
      "display_name": "Python 3"
    },
    "language_info": {
      "name": "python"
    }
  },
  "cells": [
    {
      "cell_type": "markdown",
      "source": [
        "# Statistics Basics\n",
        "\n",
        "1. What is statistics, and why is it important?\n",
        "\n",
        "    - Statistics is the study of collecting, analyzing, interpreting, presenting, and organizing data. It is important because it helps in decision-making, identifying trends, and making predictions in various fields like business, healthcare, and engineering.\n",
        "2. What are the two main types of statistics?\n",
        "\n",
        "  - Descriptive Statistics (summarizes data)\n",
        "Inferential Statistics (makes predictions or inferences about a population based on sample data)\n",
        "3. What are descriptive statistics?\n",
        "\n",
        "  - Descriptive statistics involve summarizing and organizing data using measures like mean, median, mode, variance, and standard deviation.\n",
        "4. What is inferential statistics?\n",
        "\n",
        "  - Inferential statistics use sample data to make generalizations about a population using techniques like hypothesis testing and regression analysis.\n",
        "5. What is sampling in statistics?\n",
        "\n",
        "  - Sampling is selecting a subset of a population for analysis to draw conclusions about the entire group.\n",
        "6. What are the different types of sampling methods?\n",
        "\n",
        "  - Random Sampling (simple, stratified, cluster, systematic)\n",
        "Non-Random Sampling (convenience, judgmental, quota, snowball)\n",
        "7. What is the difference between random and non-random sampling?\n",
        "\n",
        "  - Random Sampling ensures every individual has an equal chance of selection, reducing bias.\n",
        "  - Non-Random Sampling selects individuals based on specific criteria, introducing potential bias.\n",
        "8. Define and give examples of qualitative and quantitative data.\n",
        "\n",
        "  - Qualitative Data (Categorical, e.g., colors, gender, opinions)\n",
        "  - Quantitative Data (Numerical, e.g., age, height, temperature)\n",
        "9. What are the different types of data in statistics?\n",
        "\n",
        "  - Nominal, Ordinal, Interval, Ratio.\n",
        "10. Explain nominal, ordinal, interval, and ratio levels of measurement.\n",
        "\n",
        "  - Nominal: Categories without order (e.g., gender, eye color)\n",
        "  - Ordinal: Ordered categories without equal intervals (e.g., rankings, satisfaction levels)\n",
        "  - Interval: Ordered categories with equal intervals, no true zero (e.g., temperature in Celsius)\n",
        "  - Ratio: Ordered categories with equal intervals and a true zero (e.g., weight, height, income)\n",
        "11. What is the measure of central tendency?\n",
        "\n",
        "  - It represents a central value of a dataset: Mean, Median, Mode.\n",
        "12. Define mean, median, and mode.\n",
        "\n",
        "  - Mean: Average of numbers\n",
        "  - Median: Middle value\n",
        "  - Mode: Most frequently occurring value\n",
        "13. What is the significance of the measure of central tendency?\n",
        "\n",
        "  - It provides a summary measure of data and helps in comparison.\n",
        "14. What is variance, and how is it calculated?\n",
        "\n",
        "  - Variance measures the spread of data points from the mean. It is calculated as:\n",
        "  - 𝜎^2 = (∑(𝑋−𝜇)^2)/N\n",
        "\n",
        "  - where X is each data point, μ is the mean, and N is the total number of observations.\n",
        "15. What is standard deviation, and why is it important?\n",
        "\n",
        "  - Standard deviation is the square root of variance and indicates how spread out data points are.\n",
        "16. Define and explain the term range in statistics.\n",
        "\n",
        "  - Range = Maximum value - Minimum value.\n",
        "17. What is the difference between variance and standard deviation?\n",
        "\n",
        "  - Variance is the squared deviation from the mean, while standard deviation is its square root.\n",
        "18. What is skewness in a dataset?\n",
        "\n",
        "  - Skewness measures the asymmetry of data distribution.\n",
        "19. What does it mean if a dataset is positively or negatively skewed?\n",
        "\n",
        "  - Positive Skew: Tail is longer on the right.\n",
        "  - Negative Skew: Tail is longer on the left.\n",
        "20. Define and explain kurtosis.\n",
        "\n",
        "  - Kurtosis measures the \"tailedness\" of a distribution.\n",
        "21. What is the purpose of covariance?\n",
        "\n",
        "  - Covariance measures how two variables change together.\n",
        "22. What does correlation measure in statistics?\n",
        "\n",
        "  - Correlation measures the strength and direction of the relationship between two variables.\n",
        "23. What is the difference between covariance and correlation?\n",
        "\n",
        "  - Covariance measures joint variability; correlation standardizes covariance for easier interpretation.\n",
        "24. What are some real-world applications of statistics?\n",
        "\n",
        "  - Finance, healthcare, sports analytics, business decision-making, AI, and market research.\n",
        "\n"
      ],
      "metadata": {
        "id": "7IeqRIvIxEtU"
      }
    },
    {
      "cell_type": "code",
      "source": [
        "#  1. How do you calculate the mean, median, and mode of a dataset?\n",
        "\n",
        "import numpy as np\n",
        "from scipy import stats\n",
        "\n",
        "data = [10, 20, 30, 40, 50, 50]\n",
        "\n",
        "mean = np.mean(data)\n",
        "median = np.median(data)\n",
        "mode = stats.mode(data)\n",
        "\n",
        "print(\"Mean:\", mean)\n",
        "print(\"Median:\", median)\n",
        "print(\"Mode:\", mode)\n"
      ],
      "metadata": {
        "colab": {
          "base_uri": "https://localhost:8080/"
        },
        "id": "YbYadEiD1ovV",
        "outputId": "5333fa68-98fd-4c22-b456-6ed8a52f0933"
      },
      "execution_count": 3,
      "outputs": [
        {
          "output_type": "stream",
          "name": "stdout",
          "text": [
            "Mean: 33.333333333333336\n",
            "Median: 35.0\n",
            "Mode: ModeResult(mode=50, count=2)\n"
          ]
        }
      ]
    },
    {
      "cell_type": "code",
      "source": [
        "# 2. Write a Python program to compute the variance and standard deviation of a dataset5\n",
        "\n",
        "import numpy as np\n",
        "\n",
        "data = [10, 20, 30, 40, 50]\n",
        "\n",
        "variance = np.var(data, ddof=1)\n",
        "std_dev = np.std(data, ddof=1)\n",
        "\n",
        "print(\"Variance:\", variance)\n",
        "print(\"Standard Deviation:\", std_dev)\n"
      ],
      "metadata": {
        "colab": {
          "base_uri": "https://localhost:8080/"
        },
        "id": "N6Z1rM8i2TAB",
        "outputId": "a591b8e3-0a44-4023-b981-27b4f5de5258"
      },
      "execution_count": 4,
      "outputs": [
        {
          "output_type": "stream",
          "name": "stdout",
          "text": [
            "Variance: 250.0\n",
            "Standard Deviation: 15.811388300841896\n"
          ]
        }
      ]
    },
    {
      "cell_type": "code",
      "source": [
        "# 3. Create a dataset and classify it into nominal, ordinal, interval, and ratio types\n",
        "\n",
        "dataset = {\n",
        "    \"Nominal\": [\"Red\", \"Blue\", \"Green\"],\n",
        "    \"Ordinal\": [\"Low\", \"Medium\", \"High\"],\n",
        "    \"Interval\": [0, 10, 20, 30],\n",
        "    \"Ratio\": [1.5, 2.5, 3.5, 4.5]\n",
        "}\n",
        "\n",
        "print(dataset)\n"
      ],
      "metadata": {
        "colab": {
          "base_uri": "https://localhost:8080/"
        },
        "id": "hYGKOnVd2U4f",
        "outputId": "fd3379a5-d2da-45c6-ae43-a5e76f23f280"
      },
      "execution_count": 5,
      "outputs": [
        {
          "output_type": "stream",
          "name": "stdout",
          "text": [
            "{'Nominal': ['Red', 'Blue', 'Green'], 'Ordinal': ['Low', 'Medium', 'High'], 'Interval': [0, 10, 20, 30], 'Ratio': [1.5, 2.5, 3.5, 4.5]}\n"
          ]
        }
      ]
    },
    {
      "cell_type": "code",
      "source": [
        "# 4. Implement sampling techniques like random sampling and stratified sampling\n",
        "\n",
        "import numpy as np\n",
        "import pandas as pd\n",
        "from sklearn.model_selection import train_test_split\n",
        "\n",
        "\n",
        "data = np.arange(1, 101)\n",
        "\n",
        "\n",
        "random_sample = np.random.choice(data, 10, replace=False)\n",
        "print(\"Random Sample:\", random_sample)\n",
        "\n",
        "\n",
        "df = pd.DataFrame({\"Category\": np.random.choice([\"A\", \"B\", \"C\"], 100)})\n",
        "stratified_sample = df.groupby(\"Category\", group_keys=False).apply(lambda x: x.sample(3))\n",
        "print(stratified_sample)\n"
      ],
      "metadata": {
        "colab": {
          "base_uri": "https://localhost:8080/"
        },
        "id": "PJITaS_W2ZL8",
        "outputId": "de233cc6-89c3-45bd-9503-6fd690225f46"
      },
      "execution_count": 6,
      "outputs": [
        {
          "output_type": "stream",
          "name": "stdout",
          "text": [
            "Random Sample: [81 56 63 38 70  9 40 22 95 49]\n",
            "   Category\n",
            "72        A\n",
            "37        A\n",
            "51        A\n",
            "24        B\n",
            "80        B\n",
            "27        B\n",
            "53        C\n",
            "48        C\n",
            "74        C\n"
          ]
        },
        {
          "output_type": "stream",
          "name": "stderr",
          "text": [
            "<ipython-input-6-a87c8fe7dbd5>:16: DeprecationWarning: DataFrameGroupBy.apply operated on the grouping columns. This behavior is deprecated, and in a future version of pandas the grouping columns will be excluded from the operation. Either pass `include_groups=False` to exclude the groupings or explicitly select the grouping columns after groupby to silence this warning.\n",
            "  stratified_sample = df.groupby(\"Category\", group_keys=False).apply(lambda x: x.sample(3))\n"
          ]
        }
      ]
    },
    {
      "cell_type": "code",
      "source": [
        "# 5. Write a Python function to calculate the range of a dataset5\n",
        "\n",
        "def calculate_range(data):\n",
        "    return max(data) - min(data)\n",
        "\n",
        "data = [10, 20, 30, 40, 50]\n",
        "print(calculate_range(data))\n"
      ],
      "metadata": {
        "colab": {
          "base_uri": "https://localhost:8080/"
        },
        "id": "4JlfzFsq2c_Z",
        "outputId": "d83593db-dc0b-404e-8f46-0c734738cee3"
      },
      "execution_count": 7,
      "outputs": [
        {
          "output_type": "stream",
          "name": "stdout",
          "text": [
            "40\n"
          ]
        }
      ]
    },
    {
      "cell_type": "code",
      "source": [
        "#  6. Create a dataset and plot its histogram to visualize skewness\n",
        "\n",
        "import matplotlib.pyplot as plt\n",
        "import numpy as np\n",
        "\n",
        "data = np.random.gamma(2, 2, 1000)\n",
        "\n",
        "plt.hist(data, bins=30, color=\"skyblue\", edgecolor=\"black\")\n",
        "plt.title(\"Histogram\")\n",
        "plt.show()\n"
      ],
      "metadata": {
        "colab": {
          "base_uri": "https://localhost:8080/",
          "height": 452
        },
        "id": "px-Iqxn42e8z",
        "outputId": "6a5af39e-10c2-4e03-d1ca-fcef54ce89c9"
      },
      "execution_count": 8,
      "outputs": [
        {
          "output_type": "display_data",
          "data": {
            "text/plain": [
              "<Figure size 640x480 with 1 Axes>"
            ],
            "image/png": "[encoded data removed]"
          },
          "metadata": {}
        }
      ]
    },
    {
      "cell_type": "code",
      "source": [
        "# 7. Calculate skewness and kurtosis of a dataset using Python libraries5\n",
        "\n",
        "from scipy.stats import skew, kurtosis\n",
        "\n",
        "data = [10, 20, 30, 40, 50, 100]\n",
        "\n",
        "print(skew(data))\n",
        "print(kurtosis(data))\n"
      ],
      "metadata": {
        "colab": {
          "base_uri": "https://localhost:8080/"
        },
        "id": "5b7n7sRg2g6l",
        "outputId": "eac78cba-c487-4d3f-8b71-a19ad650bfe4"
      },
      "execution_count": 9,
      "outputs": [
        {
          "output_type": "stream",
          "name": "stdout",
          "text": [
            "1.0513280892320205\n",
            "-0.021349099704380592\n"
          ]
        }
      ]
    },
    {
      "cell_type": "code",
      "source": [
        "# 8. Generate a dataset and demonstrate positive and negative skewness?\n",
        "\n",
        "import numpy as np\n",
        "\n",
        "pos_skew = np.random.exponential(scale=2, size=1000)\n",
        "neg_skew = -np.random.exponential(scale=2, size=1000)\n",
        "\n",
        "plt.hist(pos_skew)\n",
        "plt.show()"
      ],
      "metadata": {
        "colab": {
          "base_uri": "https://localhost:8080/",
          "height": 430
        },
        "id": "okPxX-A32jD8",
        "outputId": "ebe79f4a-f403-4493-d6f2-60886f75c0ad"
      },
      "execution_count": 14,
      "outputs": [
        {
          "output_type": "display_data",
          "data": {
            "text/plain": [
              "<Figure size 640x480 with 1 Axes>"
            ],
            "image/png": "[encoded data removed]"
          },
          "metadata": {}
        }
      ]
    },
    {
      "cell_type": "code",
      "source": [
        "plt.hist(neg_skew)\n",
        "plt.show()"
      ],
      "metadata": {
        "colab": {
          "base_uri": "https://localhost:8080/",
          "height": 430
        },
        "id": "7oz9ReAN4WoL",
        "outputId": "51761187-b586-4910-88e1-89f0c2093ed3"
      },
      "execution_count": 16,
      "outputs": [
        {
          "output_type": "display_data",
          "data": {
            "text/plain": [
              "<Figure size 640x480 with 1 Axes>"
            ],
            "image/png": "[encoded data removed]"
          },
          "metadata": {}
        }
      ]
    },
    {
      "cell_type": "code",
      "source": [
        "# 9. Write a Python script to calculate covariance between two datasets5\n",
        "import numpy as np\n",
        "\n",
        "x = [1, 2, 3, 4, 5]\n",
        "y = [2, 4, 6, 8, 10]\n",
        "\n",
        "print(np.cov(x, y)[0, 1])\n"
      ],
      "metadata": {
        "colab": {
          "base_uri": "https://localhost:8080/"
        },
        "id": "pamgkLsT2l9j",
        "outputId": "0ab50901-a0f2-46d7-dab5-88effc122156"
      },
      "execution_count": 17,
      "outputs": [
        {
          "output_type": "stream",
          "name": "stdout",
          "text": [
            "5.0\n"
          ]
        }
      ]
    },
    {
      "cell_type": "code",
      "source": [
        "#  10. Write a Python script to calculate the correlation coefficient between two datasets5\n",
        "\n",
        "import numpy as np\n",
        "\n",
        "x = [1, 2, 3, 4, 5]\n",
        "y = [2, 4, 6, 8, 10]\n",
        "\n",
        "print(np.corrcoef(x, y)[0, 1])\n"
      ],
      "metadata": {
        "colab": {
          "base_uri": "https://localhost:8080/"
        },
        "id": "hn7frN4s2nw0",
        "outputId": "0e25d761-5215-4a29-8213-2610fefcaac9"
      },
      "execution_count": 18,
      "outputs": [
        {
          "output_type": "stream",
          "name": "stdout",
          "text": [
            "0.9999999999999999\n"
          ]
        }
      ]
    },
    {
      "cell_type": "code",
      "source": [
        "# 11. Create a scatter plot to visualize the relationship between two variables\n",
        "\n",
        "import matplotlib.pyplot as plt\n",
        "\n",
        "x = [1, 2, 3, 4, 5]\n",
        "y = [2, 4, 6, 8, 10]\n",
        "\n",
        "plt.scatter(x, y, color='blue')\n",
        "plt.xlabel(\"X Values\")\n",
        "plt.ylabel(\"Y Values\")\n",
        "plt.title(\"Scatter Plot\")\n",
        "plt.show()\n"
      ],
      "metadata": {
        "colab": {
          "base_uri": "https://localhost:8080/",
          "height": 472
        },
        "id": "SDuBBg9e2qEa",
        "outputId": "ac073fae-5580-4295-d357-452e2b27bb28"
      },
      "execution_count": 19,
      "outputs": [
        {
          "output_type": "display_data",
          "data": {
            "text/plain": [
              "<Figure size 640x480 with 1 Axes>"
            ],
            "image/png": "[encoded data removed]"
          },
          "metadata": {}
        }
      ]
    },
    {
      "cell_type": "code",
      "source": [
        "# 12. Implement and compare simple random sampling and systematic sampling5\n",
        "import numpy as np\n",
        "\n",
        "data = np.arange(1, 101)\n",
        "\n",
        "print(np.random.choice(data, 10, replace=False))\n",
        "print(data[::len(data)//10])\n"
      ],
      "metadata": {
        "colab": {
          "base_uri": "https://localhost:8080/"
        },
        "id": "QWTNom4I2sDJ",
        "outputId": "0bfd4a1e-3799-4e81-a54e-bad21b069da9"
      },
      "execution_count": 20,
      "outputs": [
        {
          "output_type": "stream",
          "name": "stdout",
          "text": [
            "[89 17 85 12 28 38 56 73 91 68]\n",
            "[ 1 11 21 31 41 51 61 71 81 91]\n"
          ]
        }
      ]
    },
    {
      "cell_type": "code",
      "source": [
        "# 13. Calculate the mean, median, and mode of grouped data5\n",
        "\n",
        "import numpy as np\n",
        "from scipy import stats\n",
        "\n",
        "grouped_data = [10, 10, 20, 20, 30, 30, 40, 40, 50, 50]\n",
        "\n",
        "print(np.mean(grouped_data))\n",
        "print(np.median(grouped_data))\n",
        "print(stats.mode(grouped_data))\n"
      ],
      "metadata": {
        "colab": {
          "base_uri": "https://localhost:8080/"
        },
        "id": "DQEKspfp2vN8",
        "outputId": "4b6747d9-1846-47ed-d4b7-71f3bfdfb95a"
      },
      "execution_count": 22,
      "outputs": [
        {
          "output_type": "stream",
          "name": "stdout",
          "text": [
            "30.0\n",
            "30.0\n",
            "ModeResult(mode=10, count=2)\n"
          ]
        }
      ]
    },
    {
      "cell_type": "code",
      "source": [
        "# 14. Simulate data using Python and calculate its central tendency and dispersion\n",
        "\n",
        "import numpy as np\n",
        "\n",
        "data = np.random.normal(loc=50, scale=15, size=100)\n",
        "\n",
        "print(np.mean(data))\n",
        "print(np.median(data))\n",
        "print(np.std(data))\n"
      ],
      "metadata": {
        "colab": {
          "base_uri": "https://localhost:8080/"
        },
        "id": "J2eMj2nP2xjR",
        "outputId": "1d2e3ad6-1806-47cc-88e2-b731d150f308"
      },
      "execution_count": 23,
      "outputs": [
        {
          "output_type": "stream",
          "name": "stdout",
          "text": [
            "49.97063714915179\n",
            "47.74225052879696\n",
            "14.550141238758917\n"
          ]
        }
      ]
    },
    {
      "cell_type": "code",
      "source": [
        "#  15. Use NumPy or pandas to summarize a dataset’s descriptive statistics\n",
        "\n",
        "import pandas as pd\n",
        "import numpy as np\n",
        "\n",
        "data = pd.DataFrame({\"Values\": np.random.randint(1, 100, 100)})\n",
        "print(data.describe())\n"
      ],
      "metadata": {
        "colab": {
          "base_uri": "https://localhost:8080/"
        },
        "id": "o1cVArLl20W7",
        "outputId": "da74c845-0b09-43e6-8653-e6936119e104"
      },
      "execution_count": 24,
      "outputs": [
        {
          "output_type": "stream",
          "name": "stdout",
          "text": [
            "           Values\n",
            "count  100.000000\n",
            "mean    50.420000\n",
            "std     27.361471\n",
            "min      1.000000\n",
            "25%     29.000000\n",
            "50%     48.500000\n",
            "75%     71.750000\n",
            "max     99.000000\n"
          ]
        }
      ]
    },
    {
      "cell_type": "code",
      "source": [
        "# 16. Plot a boxplot to understand the spread and identify outliers\n",
        "\n",
        "import matplotlib.pyplot as plt\n",
        "import seaborn as sns\n",
        "import numpy as np\n",
        "\n",
        "sns.boxplot(data=np.random.normal(50, 15, 100))\n",
        "plt.title(\"Boxplot\")\n",
        "plt.show()\n"
      ],
      "metadata": {
        "colab": {
          "base_uri": "https://localhost:8080/",
          "height": 433
        },
        "id": "jthGKytx22Qt",
        "outputId": "1b6a2fae-0101-4172-b574-1aceb12571f7"
      },
      "execution_count": 25,
      "outputs": [
        {
          "output_type": "display_data",
          "data": {
            "text/plain": [
              "<Figure size 640x480 with 1 Axes>"
            ],
            "image/png": "[encoded data removed]"
          },
          "metadata": {}
        }
      ]
    },
    {
      "cell_type": "code",
      "source": [
        "# 17. Calculate the interquartile range (IQR) of a dataset\n",
        "\n",
        "import numpy as np\n",
        "\n",
        "data = np.random.normal(50, 15, 100)\n",
        "\n",
        "print(np.percentile(data, 75) - np.percentile(data, 25))\n"
      ],
      "metadata": {
        "colab": {
          "base_uri": "https://localhost:8080/"
        },
        "id": "Q5uLiczU24Dw",
        "outputId": "5536b0ca-1395-4a89-998f-c8a017ab77b8"
      },
      "execution_count": 26,
      "outputs": [
        {
          "output_type": "stream",
          "name": "stdout",
          "text": [
            "18.107010793704646\n"
          ]
        }
      ]
    },
    {
      "cell_type": "code",
      "source": [
        "#  18. Implement Z-score normalization and explain its significance\n",
        "\n",
        "from scipy.stats import zscore\n",
        "import numpy as np\n",
        "\n",
        "data = np.random.normal(50, 15, 100)\n",
        "\n",
        "print(zscore(data))\n"
      ],
      "metadata": {
        "colab": {
          "base_uri": "https://localhost:8080/"
        },
        "id": "Fjuz7pQS253U",
        "outputId": "b6e69e27-9d44-42f5-9993-0f565d223b1f"
      },
      "execution_count": 27,
      "outputs": [
        {
          "output_type": "stream",
          "name": "stdout",
          "text": [
            "[-1.11870544  1.79107247  1.67149848 -0.74843096  1.46238422  0.63327107\n",
            " -0.51655282  0.38771054 -0.98846305 -1.30614121 -0.81640848 -1.05672876\n",
            "  0.9012145  -0.35738928  0.1707259  -0.38692328 -0.69068481 -0.42363857\n",
            "  2.2896074   0.66430848 -0.52949873 -1.23263754 -2.00109855 -0.77176997\n",
            " -1.16240352 -0.23476975 -0.26079416  0.24177717 -1.61241364 -1.56001127\n",
            "  0.19845184  0.95151957  1.366789    0.14500888  0.8079138  -0.83329139\n",
            " -1.54911271  0.73639717  0.57940606 -1.06077663 -0.40286276  0.73493528\n",
            "  0.44655409 -0.08615493  2.10257835  0.10813738  0.56597643  0.96375252\n",
            "  0.37204496  1.63205848  1.25948004 -0.1907307  -1.55812061  0.17727259\n",
            "  0.12314106  0.64306411 -0.54707254 -0.41166283  1.83372316  2.51065411\n",
            "  0.51014746 -0.63568901 -1.78987204 -0.5344382  -0.64992347  0.28706394\n",
            " -0.0972751  -0.20953462  0.18090151  0.95918303 -1.10608414  0.70054529\n",
            "  0.06782894  0.03796592  1.51920407  0.49747039  0.30060156  1.17995595\n",
            " -0.23656132 -1.88750879 -0.77089602 -0.40251539 -1.22055661  1.16610056\n",
            " -0.20404041 -1.22923908  0.98820416  1.1574813   0.28950681  0.12675334\n",
            " -1.52260095  0.87219925 -1.1971631   1.47904375 -1.01044232 -0.18972549\n",
            "  0.31071828 -0.8537252  -0.27537654 -0.66488796]\n"
          ]
        }
      ]
    },
    {
      "cell_type": "code",
      "source": [
        "# 19. Compare two datasets using their standard deviations\n",
        "\n",
        "import numpy as np\n",
        "\n",
        "data1 = np.random.normal(50, 15, 100)\n",
        "data2 = np.random.normal(60, 10, 100)\n",
        "\n",
        "print(np.std(data1))\n",
        "print(np.std(data2))\n"
      ],
      "metadata": {
        "colab": {
          "base_uri": "https://localhost:8080/"
        },
        "id": "CY8VyUmm287T",
        "outputId": "3e5035ea-47ad-472b-b51f-163852ae6747"
      },
      "execution_count": 28,
      "outputs": [
        {
          "output_type": "stream",
          "name": "stdout",
          "text": [
            "15.840518596610092\n",
            "9.147657771810392\n"
          ]
        }
      ]
    },
    {
      "cell_type": "code",
      "source": [
        "# 20. Write a Python program to visualize covariance using a heatmap\n",
        "import numpy as np\n",
        "import pandas as pd\n",
        "import seaborn as sns\n",
        "import matplotlib.pyplot as plt\n",
        "\n",
        "data = np.random.randn(100, 3)\n",
        "df = pd.DataFrame(data, columns=[\"A\", \"B\", \"C\"])\n",
        "cov_matrix = df.cov()\n",
        "\n",
        "plt.figure(figsize=(6, 4))\n",
        "sns.heatmap(cov_matrix, annot=True, cmap=\"coolwarm\")\n",
        "plt.title(\"Covariance Heatmap\")\n",
        "plt.show()\n"
      ],
      "metadata": {
        "colab": {
          "base_uri": "https://localhost:8080/",
          "height": 391
        },
        "id": "6Gli1acC2-3t",
        "outputId": "67293616-4cad-46e6-e199-7fcb2265f176"
      },
      "execution_count": 29,
      "outputs": [
        {
          "output_type": "display_data",
          "data": {
            "text/plain": [
              "<Figure size 600x400 with 2 Axes>"
            ],
            "image/png": "[encoded data removed]"
          },
          "metadata": {}
        }
      ]
    },
    {
      "cell_type": "code",
      "source": [
        "# 21. Use seaborn to create a correlation matrix for a datase\n",
        "import seaborn as sns\n",
        "import matplotlib.pyplot as plt\n",
        "import pandas as pd\n",
        "import numpy as np\n",
        "\n",
        "data = np.random.randn(100, 3)\n",
        "df = pd.DataFrame(data, columns=[\"A\", \"B\", \"C\"])\n",
        "corr_matrix = df.corr()\n",
        "\n",
        "plt.figure(figsize=(6, 4))\n",
        "sns.heatmap(corr_matrix, annot=True, cmap=\"coolwarm\")\n",
        "plt.title(\"Correlation Matrix\")\n",
        "plt.show()\n"
      ],
      "metadata": {
        "colab": {
          "base_uri": "https://localhost:8080/",
          "height": 391
        },
        "id": "KuzXzzO73BWd",
        "outputId": "ec6cb918-02b5-4886-8312-271e0fd57d4a"
      },
      "execution_count": 30,
      "outputs": [
        {
          "output_type": "display_data",
          "data": {
            "text/plain": [
              "<Figure size 600x400 with 2 Axes>"
            ],
            "image/png": "[encoded data removed]"
          },
          "metadata": {}
        }
      ]
    },
    {
      "cell_type": "code",
      "source": [
        "# 22. Generate a dataset and implement both variance and standard deviation computations\n",
        "\n",
        "import numpy as np\n",
        "\n",
        "data = np.random.randn(100)\n",
        "variance = np.var(data, ddof=1)\n",
        "std_dev = np.std(data, ddof=1)\n",
        "\n",
        "print(\"Variance:\", variance)\n",
        "print(\"Standard Deviation:\", std_dev)\n"
      ],
      "metadata": {
        "colab": {
          "base_uri": "https://localhost:8080/"
        },
        "id": "xaLZYKJQ3DRx",
        "outputId": "eb68f2db-93e1-45d4-e94d-254234e96994"
      },
      "execution_count": 31,
      "outputs": [
        {
          "output_type": "stream",
          "name": "stdout",
          "text": [
            "Variance: 0.8026216785443351\n",
            "Standard Deviation: 0.8958915551250246\n"
          ]
        }
      ]
    },
    {
      "cell_type": "code",
      "source": [
        "#  23. Visualize skewness and kurtosis using Python libraries like matplotlib or seaborn>\n",
        "\n",
        "import numpy as np\n",
        "import seaborn as sns\n",
        "import matplotlib.pyplot as plt\n",
        "from scipy.stats import skew, kurtosis\n",
        "\n",
        "data = np.random.randn(1000)\n",
        "\n",
        "sns.histplot(data, kde=True, bins=30)\n",
        "plt.title(f\"Skewness: {skew(data):.2f}, Kurtosis: {kurtosis(data):.2f}\")\n",
        "plt.show()\n"
      ],
      "metadata": {
        "colab": {
          "base_uri": "https://localhost:8080/",
          "height": 452
        },
        "id": "Idyl6ZTM3FVB",
        "outputId": "51f3088a-a1b4-4266-a2b4-f55edc412c9e"
      },
      "execution_count": 32,
      "outputs": [
        {
          "output_type": "display_data",
          "data": {
            "text/plain": [
              "<Figure size 640x480 with 1 Axes>"
            ],
            "image/png": "[encoded data removed]"
          },
          "metadata": {}
        }
      ]
    },
    {
      "cell_type": "code",
      "source": [
        "#  24. Implement the Pearson and Spearman correlation coefficients for a dataset\n",
        "\n",
        "import numpy as np\n",
        "import pandas as pd\n",
        "from scipy.stats import pearsonr, spearmanr\n",
        "\n",
        "data = np.random.randn(100, 2)\n",
        "df = pd.DataFrame(data, columns=[\"X\", \"Y\"])\n",
        "\n",
        "pearson_corr, _ = pearsonr(df[\"X\"], df[\"Y\"])\n",
        "spearman_corr, _ = spearmanr(df[\"X\"], df[\"Y\"])\n",
        "\n",
        "print(\"Pearson Correlation:\", pearson_corr)\n",
        "print(\"Spearman Correlation:\", spearman_corr)\n"
      ],
      "metadata": {
        "colab": {
          "base_uri": "https://localhost:8080/"
        },
        "id": "8YhYC-f_3HvW",
        "outputId": "76f3b29a-ca12-488e-fce7-be4331b93664"
      },
      "execution_count": 33,
      "outputs": [
        {
          "output_type": "stream",
          "name": "stdout",
          "text": [
            "Pearson Correlation: 0.14021562998402523\n",
            "Spearman Correlation: 0.1759375937593759\n"
          ]
        }
      ]
    },
    {
      "cell_type": "code",
      "source": [],
      "metadata": {
        "id": "FmmzqB_j6IMJ"
      },
      "execution_count": null,
      "outputs": []
    }
  ]
}